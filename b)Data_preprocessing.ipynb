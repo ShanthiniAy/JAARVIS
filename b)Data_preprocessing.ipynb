{
 "cells": [
  {
   "cell_type": "markdown",
   "id": "3dcc0315",
   "metadata": {},
   "source": [
    "\n",
    "\n",
    "\n",
    "\n",
    "##  Targets for Each Dataset\n",
    "\n",
    "| Dataset       | Target Column              |\n",
    "|---------------|----------------------------|\n",
    "| Landslide     | `Landslide_Occurred`       |\n",
    "| GLOF          | `GLOF_Occurred`            |\n",
    "| Earthquake    | `Quake_Occurred`           |\n",
    "| Liquefaction  | `Liquefaction_Risk`        |\n",
    "| Sinkhole      | `Sinkhole_Reported`        |\n",
    "| Tsunami       | `Alert_Issued`             |\n",
    "| Lahar         | `Lahar_Triggered`          |\n",
    "\n",
    "\n",
    "\n"
   ]
  },
  {
   "cell_type": "markdown",
   "id": "a4880ca6",
   "metadata": {},
   "source": [
    "## Landslide"
   ]
  },
  {
   "cell_type": "code",
   "execution_count": 1,
   "id": "69a7c896",
   "metadata": {},
   "outputs": [
    {
     "data": {
      "text/html": [
       "<div>\n",
       "<style scoped>\n",
       "    .dataframe tbody tr th:only-of-type {\n",
       "        vertical-align: middle;\n",
       "    }\n",
       "\n",
       "    .dataframe tbody tr th {\n",
       "        vertical-align: top;\n",
       "    }\n",
       "\n",
       "    .dataframe thead th {\n",
       "        text-align: right;\n",
       "    }\n",
       "</style>\n",
       "<table border=\"1\" class=\"dataframe\">\n",
       "  <thead>\n",
       "    <tr style=\"text-align: right;\">\n",
       "      <th></th>\n",
       "      <th>Date</th>\n",
       "      <th>Latitude</th>\n",
       "      <th>Longitude</th>\n",
       "      <th>Rainfall_mm</th>\n",
       "      <th>Slope_deg</th>\n",
       "      <th>Soil_Moisture_%</th>\n",
       "      <th>Landslide_Occurred</th>\n",
       "      <th>Risk_Score</th>\n",
       "    </tr>\n",
       "  </thead>\n",
       "  <tbody>\n",
       "    <tr>\n",
       "      <th>0</th>\n",
       "      <td>2024-02-22</td>\n",
       "      <td>0.729087</td>\n",
       "      <td>0.286249</td>\n",
       "      <td>0.748475</td>\n",
       "      <td>0.702628</td>\n",
       "      <td>0.066064</td>\n",
       "      <td>0.0</td>\n",
       "      <td>0.743960</td>\n",
       "    </tr>\n",
       "    <tr>\n",
       "      <th>1</th>\n",
       "      <td>2024-02-20</td>\n",
       "      <td>0.760593</td>\n",
       "      <td>0.354387</td>\n",
       "      <td>0.546692</td>\n",
       "      <td>0.966397</td>\n",
       "      <td>0.992464</td>\n",
       "      <td>0.0</td>\n",
       "      <td>0.610419</td>\n",
       "    </tr>\n",
       "    <tr>\n",
       "      <th>2</th>\n",
       "      <td>2024-02-01</td>\n",
       "      <td>0.700868</td>\n",
       "      <td>0.797128</td>\n",
       "      <td>0.608098</td>\n",
       "      <td>0.067206</td>\n",
       "      <td>0.182869</td>\n",
       "      <td>0.0</td>\n",
       "      <td>0.526354</td>\n",
       "    </tr>\n",
       "    <tr>\n",
       "      <th>3</th>\n",
       "      <td>2024-01-20</td>\n",
       "      <td>0.692912</td>\n",
       "      <td>0.477937</td>\n",
       "      <td>0.711671</td>\n",
       "      <td>0.996463</td>\n",
       "      <td>0.067571</td>\n",
       "      <td>1.0</td>\n",
       "      <td>0.757021</td>\n",
       "    </tr>\n",
       "    <tr>\n",
       "      <th>4</th>\n",
       "      <td>2024-01-26</td>\n",
       "      <td>0.303237</td>\n",
       "      <td>0.113547</td>\n",
       "      <td>0.302809</td>\n",
       "      <td>0.473219</td>\n",
       "      <td>0.854057</td>\n",
       "      <td>0.0</td>\n",
       "      <td>0.325369</td>\n",
       "    </tr>\n",
       "  </tbody>\n",
       "</table>\n",
       "</div>"
      ],
      "text/plain": [
       "         Date  Latitude  Longitude  Rainfall_mm  Slope_deg  Soil_Moisture_%  \\\n",
       "0  2024-02-22  0.729087   0.286249     0.748475   0.702628         0.066064   \n",
       "1  2024-02-20  0.760593   0.354387     0.546692   0.966397         0.992464   \n",
       "2  2024-02-01  0.700868   0.797128     0.608098   0.067206         0.182869   \n",
       "3  2024-01-20  0.692912   0.477937     0.711671   0.996463         0.067571   \n",
       "4  2024-01-26  0.303237   0.113547     0.302809   0.473219         0.854057   \n",
       "\n",
       "   Landslide_Occurred  Risk_Score  \n",
       "0                 0.0    0.743960  \n",
       "1                 0.0    0.610419  \n",
       "2                 0.0    0.526354  \n",
       "3                 1.0    0.757021  \n",
       "4                 0.0    0.325369  "
      ]
     },
     "execution_count": 1,
     "metadata": {},
     "output_type": "execute_result"
    }
   ],
   "source": [
    "import pandas as pd\n",
    "from sklearn.model_selection import train_test_split\n",
    "\n",
    "df = pd.read_csv(\"cleaned_landslide_dataset.csv\")\n",
    "df.head()\n"
   ]
  },
  {
   "cell_type": "code",
   "execution_count": 2,
   "id": "4b231000",
   "metadata": {},
   "outputs": [],
   "source": [
    "X = df.drop(columns=[\"Landslide_Occurred\", \"Date\"])  # Drop target + Date\n",
    "y = df[\"Landslide_Occurred\"]\n"
   ]
  },
  {
   "cell_type": "code",
   "execution_count": 3,
   "id": "84b68d61",
   "metadata": {},
   "outputs": [],
   "source": [
    "X_train, X_test, y_train, y_test = train_test_split(\n",
    "    X, y, test_size=0.2, random_state=42, stratify=y\n",
    ")\n"
   ]
  },
  {
   "cell_type": "code",
   "execution_count": 4,
   "id": "6e708336",
   "metadata": {},
   "outputs": [
    {
     "name": "stdout",
     "output_type": "stream",
     "text": [
      "Train set shape: (280, 6)\n",
      "Test set shape: (70, 6)\n",
      "Target distribution: Landslide_Occurred\n",
      "0.0    176\n",
      "1.0    174\n",
      "Name: count, dtype: int64\n"
     ]
    }
   ],
   "source": [
    "print(\"Train set shape:\", X_train.shape)\n",
    "print(\"Test set shape:\", X_test.shape)\n",
    "print(\"Target distribution:\", y.value_counts())\n"
   ]
  },
  {
   "cell_type": "markdown",
   "id": "f631a49e",
   "metadata": {},
   "source": [
    "## GLOF"
   ]
  },
  {
   "cell_type": "code",
   "execution_count": 5,
   "id": "2b6f8951",
   "metadata": {},
   "outputs": [
    {
     "data": {
      "text/html": [
       "<div>\n",
       "<style scoped>\n",
       "    .dataframe tbody tr th:only-of-type {\n",
       "        vertical-align: middle;\n",
       "    }\n",
       "\n",
       "    .dataframe tbody tr th {\n",
       "        vertical-align: top;\n",
       "    }\n",
       "\n",
       "    .dataframe thead th {\n",
       "        text-align: right;\n",
       "    }\n",
       "</style>\n",
       "<table border=\"1\" class=\"dataframe\">\n",
       "  <thead>\n",
       "    <tr style=\"text-align: right;\">\n",
       "      <th></th>\n",
       "      <th>Date</th>\n",
       "      <th>Latitude</th>\n",
       "      <th>Longitude</th>\n",
       "      <th>Glacier_Volume_million_m3</th>\n",
       "      <th>Lake_Level_m</th>\n",
       "      <th>Temperature_C</th>\n",
       "      <th>GLOF_Occurred</th>\n",
       "      <th>Melt_Risk</th>\n",
       "    </tr>\n",
       "  </thead>\n",
       "  <tbody>\n",
       "    <tr>\n",
       "      <th>0</th>\n",
       "      <td>2024-01-07</td>\n",
       "      <td>0.429345</td>\n",
       "      <td>0.215513</td>\n",
       "      <td>0.384270</td>\n",
       "      <td>0.105926</td>\n",
       "      <td>0.172740</td>\n",
       "      <td>0.0</td>\n",
       "      <td>0.087366</td>\n",
       "    </tr>\n",
       "    <tr>\n",
       "      <th>1</th>\n",
       "      <td>2024-02-02</td>\n",
       "      <td>0.128226</td>\n",
       "      <td>0.735562</td>\n",
       "      <td>0.258427</td>\n",
       "      <td>0.185496</td>\n",
       "      <td>0.990553</td>\n",
       "      <td>1.0</td>\n",
       "      <td>0.324564</td>\n",
       "    </tr>\n",
       "    <tr>\n",
       "      <th>2</th>\n",
       "      <td>2024-02-11</td>\n",
       "      <td>0.264364</td>\n",
       "      <td>0.151522</td>\n",
       "      <td>0.224719</td>\n",
       "      <td>0.784120</td>\n",
       "      <td>0.038462</td>\n",
       "      <td>0.0</td>\n",
       "      <td>0.627743</td>\n",
       "    </tr>\n",
       "    <tr>\n",
       "      <th>3</th>\n",
       "      <td>2024-02-09</td>\n",
       "      <td>0.731197</td>\n",
       "      <td>0.253567</td>\n",
       "      <td>0.959551</td>\n",
       "      <td>0.292933</td>\n",
       "      <td>0.698381</td>\n",
       "      <td>0.0</td>\n",
       "      <td>0.353686</td>\n",
       "    </tr>\n",
       "    <tr>\n",
       "      <th>4</th>\n",
       "      <td>2024-01-31</td>\n",
       "      <td>0.368678</td>\n",
       "      <td>0.320414</td>\n",
       "      <td>0.179775</td>\n",
       "      <td>0.289407</td>\n",
       "      <td>0.923752</td>\n",
       "      <td>1.0</td>\n",
       "      <td>0.397721</td>\n",
       "    </tr>\n",
       "  </tbody>\n",
       "</table>\n",
       "</div>"
      ],
      "text/plain": [
       "         Date  Latitude  Longitude  Glacier_Volume_million_m3  Lake_Level_m  \\\n",
       "0  2024-01-07  0.429345   0.215513                   0.384270      0.105926   \n",
       "1  2024-02-02  0.128226   0.735562                   0.258427      0.185496   \n",
       "2  2024-02-11  0.264364   0.151522                   0.224719      0.784120   \n",
       "3  2024-02-09  0.731197   0.253567                   0.959551      0.292933   \n",
       "4  2024-01-31  0.368678   0.320414                   0.179775      0.289407   \n",
       "\n",
       "   Temperature_C  GLOF_Occurred  Melt_Risk  \n",
       "0       0.172740            0.0   0.087366  \n",
       "1       0.990553            1.0   0.324564  \n",
       "2       0.038462            0.0   0.627743  \n",
       "3       0.698381            0.0   0.353686  \n",
       "4       0.923752            1.0   0.397721  "
      ]
     },
     "execution_count": 5,
     "metadata": {},
     "output_type": "execute_result"
    }
   ],
   "source": [
    "import pandas as pd\n",
    "from sklearn.model_selection import train_test_split\n",
    "\n",
    "df = pd.read_csv(\"cleaned_glof_dataset.csv\")\n",
    "df.head()"
   ]
  },
  {
   "cell_type": "code",
   "execution_count": 6,
   "id": "593c6353",
   "metadata": {},
   "outputs": [],
   "source": [
    "X = df.drop(columns=[\"GLOF_Occurred\", \"Date\"])  # Drop target + date\n",
    "y = df[\"GLOF_Occurred\"]\n"
   ]
  },
  {
   "cell_type": "code",
   "execution_count": 7,
   "id": "d4b0f1cd",
   "metadata": {},
   "outputs": [],
   "source": [
    "X_train, X_test, y_train, y_test = train_test_split(\n",
    "    X, y, test_size=0.2, random_state=42, stratify=y\n",
    ")\n"
   ]
  },
  {
   "cell_type": "code",
   "execution_count": 8,
   "id": "b9a4ba57",
   "metadata": {},
   "outputs": [
    {
     "name": "stdout",
     "output_type": "stream",
     "text": [
      "Train shape: (280, 6)\n",
      "Test shape: (70, 6)\n",
      "Target value counts: GLOF_Occurred\n",
      "1.0    182\n",
      "0.0    168\n",
      "Name: count, dtype: int64\n"
     ]
    }
   ],
   "source": [
    "print(\"Train shape:\", X_train.shape)\n",
    "print(\"Test shape:\", X_test.shape)\n",
    "print(\"Target value counts:\", y.value_counts())\n"
   ]
  },
  {
   "cell_type": "markdown",
   "id": "ad69cb06",
   "metadata": {},
   "source": [
    "## Earthquake"
   ]
  },
  {
   "cell_type": "code",
   "execution_count": 9,
   "id": "e5c0107a",
   "metadata": {},
   "outputs": [
    {
     "data": {
      "text/html": [
       "<div>\n",
       "<style scoped>\n",
       "    .dataframe tbody tr th:only-of-type {\n",
       "        vertical-align: middle;\n",
       "    }\n",
       "\n",
       "    .dataframe tbody tr th {\n",
       "        vertical-align: top;\n",
       "    }\n",
       "\n",
       "    .dataframe thead th {\n",
       "        text-align: right;\n",
       "    }\n",
       "</style>\n",
       "<table border=\"1\" class=\"dataframe\">\n",
       "  <thead>\n",
       "    <tr style=\"text-align: right;\">\n",
       "      <th></th>\n",
       "      <th>Date</th>\n",
       "      <th>Latitude</th>\n",
       "      <th>Longitude</th>\n",
       "      <th>Magnitude</th>\n",
       "      <th>Depth_km</th>\n",
       "      <th>Ground_Acceleration_g</th>\n",
       "      <th>Quake_Occurred</th>\n",
       "      <th>Energy_Index</th>\n",
       "    </tr>\n",
       "  </thead>\n",
       "  <tbody>\n",
       "    <tr>\n",
       "      <th>0</th>\n",
       "      <td>2024-01-04</td>\n",
       "      <td>0.089176</td>\n",
       "      <td>0.074861</td>\n",
       "      <td>0.525</td>\n",
       "      <td>0.437452</td>\n",
       "      <td>0.967213</td>\n",
       "      <td>1.0</td>\n",
       "      <td>0.091418</td>\n",
       "    </tr>\n",
       "    <tr>\n",
       "      <th>1</th>\n",
       "      <td>2024-03-29</td>\n",
       "      <td>0.306089</td>\n",
       "      <td>0.057281</td>\n",
       "      <td>0.525</td>\n",
       "      <td>0.897061</td>\n",
       "      <td>0.540984</td>\n",
       "      <td>1.0</td>\n",
       "      <td>0.026684</td>\n",
       "    </tr>\n",
       "    <tr>\n",
       "      <th>2</th>\n",
       "      <td>2024-03-10</td>\n",
       "      <td>0.198002</td>\n",
       "      <td>0.380455</td>\n",
       "      <td>0.375</td>\n",
       "      <td>0.931374</td>\n",
       "      <td>0.098361</td>\n",
       "      <td>1.0</td>\n",
       "      <td>0.016457</td>\n",
       "    </tr>\n",
       "    <tr>\n",
       "      <th>3</th>\n",
       "      <td>2024-03-02</td>\n",
       "      <td>0.911789</td>\n",
       "      <td>0.231177</td>\n",
       "      <td>0.600</td>\n",
       "      <td>0.461609</td>\n",
       "      <td>0.344262</td>\n",
       "      <td>0.0</td>\n",
       "      <td>0.092481</td>\n",
       "    </tr>\n",
       "    <tr>\n",
       "      <th>4</th>\n",
       "      <td>2024-03-11</td>\n",
       "      <td>0.086917</td>\n",
       "      <td>0.869152</td>\n",
       "      <td>0.125</td>\n",
       "      <td>0.520388</td>\n",
       "      <td>0.442623</td>\n",
       "      <td>1.0</td>\n",
       "      <td>0.038131</td>\n",
       "    </tr>\n",
       "  </tbody>\n",
       "</table>\n",
       "</div>"
      ],
      "text/plain": [
       "         Date  Latitude  Longitude  Magnitude  Depth_km  \\\n",
       "0  2024-01-04  0.089176   0.074861      0.525  0.437452   \n",
       "1  2024-03-29  0.306089   0.057281      0.525  0.897061   \n",
       "2  2024-03-10  0.198002   0.380455      0.375  0.931374   \n",
       "3  2024-03-02  0.911789   0.231177      0.600  0.461609   \n",
       "4  2024-03-11  0.086917   0.869152      0.125  0.520388   \n",
       "\n",
       "   Ground_Acceleration_g  Quake_Occurred  Energy_Index  \n",
       "0               0.967213             1.0      0.091418  \n",
       "1               0.540984             1.0      0.026684  \n",
       "2               0.098361             1.0      0.016457  \n",
       "3               0.344262             0.0      0.092481  \n",
       "4               0.442623             1.0      0.038131  "
      ]
     },
     "execution_count": 9,
     "metadata": {},
     "output_type": "execute_result"
    }
   ],
   "source": [
    "import pandas as pd\n",
    "from sklearn.model_selection import train_test_split\n",
    "\n",
    "df = pd.read_csv(\"cleaned_earthquake_dataset.csv\")\n",
    "df.head()"
   ]
  },
  {
   "cell_type": "code",
   "execution_count": 10,
   "id": "2e4e1c7c",
   "metadata": {},
   "outputs": [],
   "source": [
    "X = df.drop(columns=[\"Quake_Occurred\", \"Date\"])\n",
    "y = df[\"Quake_Occurred\"]\n"
   ]
  },
  {
   "cell_type": "code",
   "execution_count": 11,
   "id": "b51dfad1",
   "metadata": {},
   "outputs": [],
   "source": [
    "X_train, X_test, y_train, y_test = train_test_split(\n",
    "    X, y, test_size=0.2, random_state=42, stratify=y\n",
    ")\n"
   ]
  },
  {
   "cell_type": "code",
   "execution_count": 12,
   "id": "c18a8b39",
   "metadata": {},
   "outputs": [
    {
     "name": "stdout",
     "output_type": "stream",
     "text": [
      "Train set: (280, 6)\n",
      "Test set: (70, 6)\n",
      "Target distribution: Quake_Occurred\n",
      "1.0    184\n",
      "0.0    166\n",
      "Name: count, dtype: int64\n"
     ]
    }
   ],
   "source": [
    "print(\"Train set:\", X_train.shape)\n",
    "print(\"Test set:\", X_test.shape)\n",
    "print(\"Target distribution:\", y.value_counts())\n"
   ]
  },
  {
   "cell_type": "markdown",
   "id": "5647f6c8",
   "metadata": {},
   "source": [
    "## Soil Liquefaction"
   ]
  },
  {
   "cell_type": "code",
   "execution_count": 13,
   "id": "eb629455",
   "metadata": {},
   "outputs": [],
   "source": [
    "import pandas as pd\n",
    "from sklearn.model_selection import train_test_split\n",
    "\n",
    "df = pd.read_csv(\"cleaned_liquefaction_dataset.csv\")"
   ]
  },
  {
   "cell_type": "code",
   "execution_count": 14,
   "id": "d8ed1bc6",
   "metadata": {},
   "outputs": [],
   "source": [
    "X = df.drop(columns=[\"Liquefaction_Risk\", \"Date\"])\n",
    "y = df[\"Liquefaction_Risk\"]"
   ]
  },
  {
   "cell_type": "code",
   "execution_count": 15,
   "id": "1fdb1022",
   "metadata": {},
   "outputs": [],
   "source": [
    "X_train, X_test, y_train, y_test = train_test_split(\n",
    "    X, y, test_size=0.2, random_state=42, stratify=y\n",
    ")"
   ]
  },
  {
   "cell_type": "code",
   "execution_count": 16,
   "id": "1e5ce764",
   "metadata": {},
   "outputs": [
    {
     "name": "stdout",
     "output_type": "stream",
     "text": [
      "Train shape: (280, 8)\n",
      "Test shape: (70, 8)\n",
      "Risk class distribution: Liquefaction_Risk\n",
      "1.0    143\n",
      "0.0    107\n",
      "0.5    100\n",
      "Name: count, dtype: int64\n"
     ]
    }
   ],
   "source": [
    "print(\"Train shape:\",X_train.shape)\n",
    "print(\"Test shape:\", X_test.shape)\n",
    "print(\"Risk class distribution:\", y.value_counts())"
   ]
  },
  {
   "cell_type": "markdown",
   "id": "3be0e4b8",
   "metadata": {},
   "source": [
    "## Sink Hole dataset"
   ]
  },
  {
   "cell_type": "code",
   "execution_count": 17,
   "id": "1fe991b4",
   "metadata": {},
   "outputs": [],
   "source": [
    "import pandas as pd\n",
    "from sklearn.model_selection import train_test_split\n",
    "\n",
    "df = pd.read_csv(\"cleaned_sinkhole_dataset.csv\")\n"
   ]
  },
  {
   "cell_type": "code",
   "execution_count": 18,
   "id": "9c17288b",
   "metadata": {},
   "outputs": [],
   "source": [
    "X = df.drop(columns=[\"Sinkhole_Reported\", \"Date\"])\n",
    "y = df[\"Sinkhole_Reported\"]\n"
   ]
  },
  {
   "cell_type": "code",
   "execution_count": 19,
   "id": "5a198a03",
   "metadata": {},
   "outputs": [],
   "source": [
    "X_train, X_test, y_train, y_test = train_test_split(\n",
    "    X, y, test_size=0.2, random_state=42, stratify=y\n",
    ")\n"
   ]
  },
  {
   "cell_type": "code",
   "execution_count": 20,
   "id": "678bc2c7",
   "metadata": {},
   "outputs": [
    {
     "name": "stdout",
     "output_type": "stream",
     "text": [
      "Train shape: (280, 5)\n",
      "Test shape: (70, 5)\n",
      "Sinkhole class balance:\n",
      " Sinkhole_Reported\n",
      "0.0    181\n",
      "1.0    169\n",
      "Name: count, dtype: int64\n"
     ]
    }
   ],
   "source": [
    "print(\"Train shape:\", X_train.shape)\n",
    "print(\"Test shape:\", X_test.shape)\n",
    "print(\"Sinkhole class balance:\\n\", y.value_counts())\n"
   ]
  },
  {
   "cell_type": "markdown",
   "id": "be8947ff",
   "metadata": {},
   "source": [
    "## Tsunami"
   ]
  },
  {
   "cell_type": "code",
   "execution_count": 21,
   "id": "953c90d2",
   "metadata": {},
   "outputs": [],
   "source": [
    "import pandas as pd\n",
    "from sklearn.model_selection import train_test_split\n",
    "\n",
    "df = pd.read_csv(\"cleaned_tsunami_dataset.csv\")\n"
   ]
  },
  {
   "cell_type": "code",
   "execution_count": 22,
   "id": "b26f4e60",
   "metadata": {},
   "outputs": [],
   "source": [
    "X = df.drop(columns=[\"Alert_Issued\", \"Date\"])\n",
    "y = df[\"Alert_Issued\"]\n"
   ]
  },
  {
   "cell_type": "code",
   "execution_count": 23,
   "id": "82796c49",
   "metadata": {},
   "outputs": [],
   "source": [
    "X_train, X_test, y_train, y_test = train_test_split(\n",
    "    X, y, test_size=0.2, random_state=42, stratify=y\n",
    ")\n"
   ]
  },
  {
   "cell_type": "code",
   "execution_count": 24,
   "id": "afe96b90",
   "metadata": {},
   "outputs": [
    {
     "name": "stdout",
     "output_type": "stream",
     "text": [
      "Train set: (280, 6)\n",
      "Test set: (70, 6)\n",
      "Alerts distribution:\n",
      " Alert_Issued\n",
      "0.0    181\n",
      "1.0    169\n",
      "Name: count, dtype: int64\n"
     ]
    }
   ],
   "source": [
    "print(\"Train set:\", X_train.shape)\n",
    "print(\"Test set:\", X_test.shape)\n",
    "print(\"Alerts distribution:\\n\", y.value_counts())\n"
   ]
  },
  {
   "cell_type": "markdown",
   "id": "cb89ef32",
   "metadata": {},
   "source": [
    "## Lahar Dataset"
   ]
  },
  {
   "cell_type": "code",
   "execution_count": 25,
   "id": "4c1badc3",
   "metadata": {},
   "outputs": [],
   "source": [
    "import pandas as pd\n",
    "from sklearn.model_selection import train_test_split\n",
    "\n",
    "df = pd.read_csv(\"cleaned_lahar_dataset.csv\")\n"
   ]
  },
  {
   "cell_type": "code",
   "execution_count": 26,
   "id": "5e5a9890",
   "metadata": {},
   "outputs": [],
   "source": [
    "X = df.drop(columns=[\"Lahar_Triggered\", \"Date\"])\n",
    "y = df[\"Lahar_Triggered\"]\n"
   ]
  },
  {
   "cell_type": "code",
   "execution_count": 27,
   "id": "b7163e6a",
   "metadata": {},
   "outputs": [],
   "source": [
    "X_train, X_test, y_train, y_test = train_test_split(\n",
    "    X, y, test_size=0.2, random_state=42, stratify=y\n",
    ")\n"
   ]
  },
  {
   "cell_type": "code",
   "execution_count": 28,
   "id": "e9ef63d6",
   "metadata": {},
   "outputs": [
    {
     "name": "stdout",
     "output_type": "stream",
     "text": [
      "Train shape: (280, 6)\n",
      "Test shape: (70, 6)\n",
      "Trigger count:\n",
      " Lahar_Triggered\n",
      "1.0    193\n",
      "0.0    157\n",
      "Name: count, dtype: int64\n"
     ]
    }
   ],
   "source": [
    "print(\"Train shape:\", X_train.shape)\n",
    "print(\"Test shape:\", X_test.shape)\n",
    "print(\"Trigger count:\\n\", y.value_counts())\n"
   ]
  }
 ],
 "metadata": {
  "kernelspec": {
   "display_name": "Python 3",
   "language": "python",
   "name": "python3"
  },
  "language_info": {
   "codemirror_mode": {
    "name": "ipython",
    "version": 3
   },
   "file_extension": ".py",
   "mimetype": "text/x-python",
   "name": "python",
   "nbconvert_exporter": "python",
   "pygments_lexer": "ipython3",
   "version": "3.13.2"
  }
 },
 "nbformat": 4,
 "nbformat_minor": 5
}
