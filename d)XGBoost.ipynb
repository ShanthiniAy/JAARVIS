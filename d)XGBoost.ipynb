{
 "cells": [
  {
   "cell_type": "code",
   "execution_count": 1,
   "id": "8160ef38",
   "metadata": {},
   "outputs": [],
   "source": [
    "import pandas as pd\n",
    "from sklearn.model_selection import train_test_split\n",
    "from sklearn.metrics import accuracy_score, confusion_matrix, classification_report\n",
    "from xgboost import XGBClassifier"
   ]
  },
  {
   "cell_type": "markdown",
   "id": "23907e8a",
   "metadata": {},
   "source": [
    "## Landslide"
   ]
  },
  {
   "cell_type": "code",
   "execution_count": 2,
   "id": "17427c99",
   "metadata": {},
   "outputs": [
    {
     "name": "stdout",
     "output_type": "stream",
     "text": [
      "🌧️ Landslide Accuracy: 0.4\n",
      "[[13 22]\n",
      " [20 15]]\n",
      "              precision    recall  f1-score   support\n",
      "\n",
      "         0.0       0.39      0.37      0.38        35\n",
      "         1.0       0.41      0.43      0.42        35\n",
      "\n",
      "    accuracy                           0.40        70\n",
      "   macro avg       0.40      0.40      0.40        70\n",
      "weighted avg       0.40      0.40      0.40        70\n",
      "\n"
     ]
    },
    {
     "name": "stderr",
     "output_type": "stream",
     "text": [
      "c:\\Users\\HP\\AppData\\Local\\Programs\\Python\\Python313\\Lib\\site-packages\\xgboost\\training.py:183: UserWarning: [10:15:28] WARNING: C:\\actions-runner\\_work\\xgboost\\xgboost\\src\\learner.cc:738: \n",
      "Parameters: { \"use_label_encoder\" } are not used.\n",
      "\n",
      "  bst.update(dtrain, iteration=i, fobj=obj)\n"
     ]
    }
   ],
   "source": [
    "df = pd.read_csv(\"cleaned_landslide_dataset.csv\")\n",
    "X = df.drop(columns=[\"Landslide_Occurred\", \"Date\"])\n",
    "y = df[\"Landslide_Occurred\"]\n",
    "\n",
    "X_train, X_test, y_train, y_test = train_test_split(X, y, test_size=0.2, stratify=y, random_state=42)\n",
    "\n",
    "XGB_model = XGBClassifier(use_label_encoder=False, eval_metric='logloss', random_state=42)\n",
    "XGB_model.fit(X_train, y_train)\n",
    "\n",
    "print(\"🌧️ Landslide Accuracy:\", accuracy_score(y_test, XGB_model.predict(X_test)))\n",
    "print(confusion_matrix(y_test, XGB_model.predict(X_test)))\n",
    "print(classification_report(y_test, XGB_model.predict(X_test)))\n"
   ]
  },
  {
   "cell_type": "markdown",
   "id": "e39a47ee",
   "metadata": {},
   "source": [
    "## GLOF"
   ]
  },
  {
   "cell_type": "code",
   "execution_count": 3,
   "id": "8f3c8c9f",
   "metadata": {},
   "outputs": [
    {
     "name": "stdout",
     "output_type": "stream",
     "text": [
      "🌊 GLOF Accuracy: 0.5428571428571428\n",
      "[[19 15]\n",
      " [17 19]]\n",
      "              precision    recall  f1-score   support\n",
      "\n",
      "         0.0       0.53      0.56      0.54        34\n",
      "         1.0       0.56      0.53      0.54        36\n",
      "\n",
      "    accuracy                           0.54        70\n",
      "   macro avg       0.54      0.54      0.54        70\n",
      "weighted avg       0.54      0.54      0.54        70\n",
      "\n"
     ]
    },
    {
     "name": "stderr",
     "output_type": "stream",
     "text": [
      "c:\\Users\\HP\\AppData\\Local\\Programs\\Python\\Python313\\Lib\\site-packages\\xgboost\\training.py:183: UserWarning: [10:15:28] WARNING: C:\\actions-runner\\_work\\xgboost\\xgboost\\src\\learner.cc:738: \n",
      "Parameters: { \"use_label_encoder\" } are not used.\n",
      "\n",
      "  bst.update(dtrain, iteration=i, fobj=obj)\n"
     ]
    }
   ],
   "source": [
    "df = pd.read_csv(\"cleaned_glof_dataset.csv\")\n",
    "X = df.drop(columns=[\"GLOF_Occurred\", \"Date\"])\n",
    "y = df[\"GLOF_Occurred\"]\n",
    "\n",
    "X_train, X_test, y_train, y_test = train_test_split(X, y, test_size=0.2, stratify=y, random_state=42)\n",
    "\n",
    "XGB_model = XGBClassifier(use_label_encoder=False, eval_metric='logloss', random_state=42)\n",
    "XGB_model.fit(X_train, y_train)\n",
    "\n",
    "print(\"🌊 GLOF Accuracy:\", accuracy_score(y_test, XGB_model.predict(X_test)))\n",
    "print(confusion_matrix(y_test, XGB_model.predict(X_test)))\n",
    "print(classification_report(y_test, XGB_model.predict(X_test)))\n"
   ]
  },
  {
   "cell_type": "markdown",
   "id": "a6d4adf7",
   "metadata": {},
   "source": [
    "## EarthQuake"
   ]
  },
  {
   "cell_type": "code",
   "execution_count": 4,
   "id": "033b18c3",
   "metadata": {},
   "outputs": [
    {
     "name": "stderr",
     "output_type": "stream",
     "text": [
      "c:\\Users\\HP\\AppData\\Local\\Programs\\Python\\Python313\\Lib\\site-packages\\xgboost\\training.py:183: UserWarning: [10:15:29] WARNING: C:\\actions-runner\\_work\\xgboost\\xgboost\\src\\learner.cc:738: \n",
      "Parameters: { \"use_label_encoder\" } are not used.\n",
      "\n",
      "  bst.update(dtrain, iteration=i, fobj=obj)\n"
     ]
    },
    {
     "name": "stdout",
     "output_type": "stream",
     "text": [
      "🌍 Earthquake Accuracy: 0.4714285714285714\n",
      "[[12 21]\n",
      " [16 21]]\n",
      "              precision    recall  f1-score   support\n",
      "\n",
      "         0.0       0.43      0.36      0.39        33\n",
      "         1.0       0.50      0.57      0.53        37\n",
      "\n",
      "    accuracy                           0.47        70\n",
      "   macro avg       0.46      0.47      0.46        70\n",
      "weighted avg       0.47      0.47      0.47        70\n",
      "\n"
     ]
    }
   ],
   "source": [
    "df = pd.read_csv(\"cleaned_earthquake_dataset.csv\")\n",
    "X = df.drop(columns=[\"Quake_Occurred\", \"Date\"])\n",
    "y = df[\"Quake_Occurred\"]\n",
    "\n",
    "X_train, X_test, y_train, y_test = train_test_split(X, y, test_size=0.2, stratify=y, random_state=42)\n",
    "\n",
    "XGB_model= XGBClassifier(use_label_encoder=False, eval_metric='logloss', random_state=42)\n",
    "XGB_model.fit(X_train, y_train)\n",
    "\n",
    "print(\"🌍 Earthquake Accuracy:\", accuracy_score(y_test, XGB_model.predict(X_test)))\n",
    "print(confusion_matrix(y_test, XGB_model.predict(X_test)))\n",
    "print(classification_report(y_test, XGB_model.predict(X_test)))\n"
   ]
  },
  {
   "cell_type": "markdown",
   "id": "e4c2a71a",
   "metadata": {},
   "source": [
    "## Liquefaction"
   ]
  },
  {
   "cell_type": "code",
   "execution_count": 5,
   "id": "f5e2b571",
   "metadata": {},
   "outputs": [
    {
     "name": "stderr",
     "output_type": "stream",
     "text": [
      "c:\\Users\\HP\\AppData\\Local\\Programs\\Python\\Python313\\Lib\\site-packages\\xgboost\\training.py:183: UserWarning: [10:15:29] WARNING: C:\\actions-runner\\_work\\xgboost\\xgboost\\src\\learner.cc:738: \n",
      "Parameters: { \"use_label_encoder\" } are not used.\n",
      "\n",
      "  bst.update(dtrain, iteration=i, fobj=obj)\n"
     ]
    },
    {
     "name": "stdout",
     "output_type": "stream",
     "text": [
      "💧 Liquefaction Accuracy: 0.5857142857142857\n",
      "[[32  9]\n",
      " [20  9]]\n",
      "              precision    recall  f1-score   support\n",
      "\n",
      "           0       0.62      0.78      0.69        41\n",
      "           1       0.50      0.31      0.38        29\n",
      "\n",
      "    accuracy                           0.59        70\n",
      "   macro avg       0.56      0.55      0.54        70\n",
      "weighted avg       0.57      0.59      0.56        70\n",
      "\n"
     ]
    }
   ],
   "source": [
    "df = pd.read_csv(\"cleaned_liquefaction_dataset.csv\")\n",
    "df[\"Liquefaction_Risk\"] = df[\"Liquefaction_Risk\"].round().astype(int)\n",
    "\n",
    "X = df.drop(columns=[\"Liquefaction_Risk\", \"Date\"])\n",
    "y = df[\"Liquefaction_Risk\"]\n",
    "\n",
    "X_train, X_test, y_train, y_test = train_test_split(X, y, test_size=0.2, stratify=y, random_state=42)\n",
    "\n",
    "XGB_model = XGBClassifier(use_label_encoder=False, eval_metric='mlogloss', objective='multi:softmax', num_class=3, random_state=42)\n",
    "XGB_model.fit(X_train, y_train)\n",
    "\n",
    "print(\"💧 Liquefaction Accuracy:\", accuracy_score(y_test, XGB_model.predict(X_test)))\n",
    "print(confusion_matrix(y_test, XGB_model.predict(X_test)))\n",
    "print(classification_report(y_test, XGB_model.predict(X_test)))\n"
   ]
  },
  {
   "cell_type": "markdown",
   "id": "b306073d",
   "metadata": {},
   "source": [
    "## Sinkhole"
   ]
  },
  {
   "cell_type": "code",
   "execution_count": null,
   "id": "7222be64",
   "metadata": {},
   "outputs": [
    {
     "name": "stderr",
     "output_type": "stream",
     "text": [
      "c:\\Users\\HP\\AppData\\Local\\Programs\\Python\\Python313\\Lib\\site-packages\\xgboost\\training.py:183: UserWarning: [10:15:29] WARNING: C:\\actions-runner\\_work\\xgboost\\xgboost\\src\\learner.cc:738: \n",
      "Parameters: { \"use_label_encoder\" } are not used.\n",
      "\n",
      "  bst.update(dtrain, iteration=i, fobj=obj)\n"
     ]
    },
    {
     "name": "stdout",
     "output_type": "stream",
     "text": [
      "🕳️ Sinkhole Accuracy: 0.5142857142857142\n",
      "[[19 17]\n",
      " [17 17]]\n",
      "              precision    recall  f1-score   support\n",
      "\n",
      "         0.0       0.53      0.53      0.53        36\n",
      "         1.0       0.50      0.50      0.50        34\n",
      "\n",
      "    accuracy                           0.51        70\n",
      "   macro avg       0.51      0.51      0.51        70\n",
      "weighted avg       0.51      0.51      0.51        70\n",
      "\n"
     ]
    }
   ],
   "source": [
    "df = pd.read_csv(\"cleaned_sinkhole_dataset.csv\")\n",
    "X = df.drop(columns=[\"Sinkhole_Reported\", \"Date\"])\n",
    "y = df[\"Sinkhole_Reported\"]\n",
    "\n",
    "X_train, X_test, y_train, y_test = train_test_split(X, y, test_size=0.2, stratify=y, random_state=42)\n",
    "\n",
    "XGB_model = XGBClassifier(use_label_encoder=False, eval_metric='logloss', random_state=42)\n",
    "XGB_model.fit(X_train, y_train)\n",
    "\n",
    "print(\"🕳️ Sinkhole Accuracy:\", accuracy_score(y_test, XGB_model.predict(X_test)))\n",
    "print(confusion_matrix(y_test,XGB_model.predict(X_test)))\n",
    "print(classification_report(y_test, XGB_model.predict(X_test)))\n"
   ]
  },
  {
   "cell_type": "markdown",
   "id": "8f1cab83",
   "metadata": {},
   "source": [
    "## Tsunami"
   ]
  },
  {
   "cell_type": "code",
   "execution_count": null,
   "id": "1bbd6bb7",
   "metadata": {},
   "outputs": [
    {
     "name": "stderr",
     "output_type": "stream",
     "text": [
      "c:\\Users\\HP\\AppData\\Local\\Programs\\Python\\Python313\\Lib\\site-packages\\xgboost\\training.py:183: UserWarning: [10:15:29] WARNING: C:\\actions-runner\\_work\\xgboost\\xgboost\\src\\learner.cc:738: \n",
      "Parameters: { \"use_label_encoder\" } are not used.\n",
      "\n",
      "  bst.update(dtrain, iteration=i, fobj=obj)\n"
     ]
    },
    {
     "name": "stdout",
     "output_type": "stream",
     "text": [
      "🌊 Tsunami Accuracy: 0.4714285714285714\n",
      "[[15 21]\n",
      " [16 18]]\n",
      "              precision    recall  f1-score   support\n",
      "\n",
      "         0.0       0.48      0.42      0.45        36\n",
      "         1.0       0.46      0.53      0.49        34\n",
      "\n",
      "    accuracy                           0.47        70\n",
      "   macro avg       0.47      0.47      0.47        70\n",
      "weighted avg       0.47      0.47      0.47        70\n",
      "\n"
     ]
    }
   ],
   "source": [
    "df = pd.read_csv(\"cleaned_tsunami_dataset.csv\")\n",
    "X = df.drop(columns=[\"Alert_Issued\", \"Date\"])\n",
    "y = df[\"Alert_Issued\"]\n",
    "\n",
    "X_train, X_test, y_train, y_test = train_test_split(X, y, test_size=0.2, stratify=y, random_state=42)\n",
    "\n",
    "XGB_model = XGBClassifier(use_label_encoder=False, eval_metric='logloss', random_state=42)\n",
    "XGB_model.fit(X_train, y_train)\n",
    "\n",
    "print(\"🌊 Tsunami Accuracy:\", accuracy_score(y_test, XGB_model.predict(X_test)))\n",
    "print(confusion_matrix(y_test, XGB_model.predict(X_test)))\n",
    "print(classification_report(y_test, XGB_model.predict(X_test)))\n"
   ]
  },
  {
   "cell_type": "markdown",
   "id": "63963bbd",
   "metadata": {},
   "source": [
    "## Lahar"
   ]
  },
  {
   "cell_type": "code",
   "execution_count": null,
   "id": "b6dbf4d1",
   "metadata": {},
   "outputs": [
    {
     "name": "stdout",
     "output_type": "stream",
     "text": [
      "🌋 Lahar Accuracy: 0.5285714285714286\n",
      "[[14 17]\n",
      " [16 23]]\n",
      "              precision    recall  f1-score   support\n",
      "\n",
      "         0.0       0.47      0.45      0.46        31\n",
      "         1.0       0.57      0.59      0.58        39\n",
      "\n",
      "    accuracy                           0.53        70\n",
      "   macro avg       0.52      0.52      0.52        70\n",
      "weighted avg       0.53      0.53      0.53        70\n",
      "\n"
     ]
    },
    {
     "name": "stderr",
     "output_type": "stream",
     "text": [
      "c:\\Users\\HP\\AppData\\Local\\Programs\\Python\\Python313\\Lib\\site-packages\\xgboost\\training.py:183: UserWarning: [10:15:29] WARNING: C:\\actions-runner\\_work\\xgboost\\xgboost\\src\\learner.cc:738: \n",
      "Parameters: { \"use_label_encoder\" } are not used.\n",
      "\n",
      "  bst.update(dtrain, iteration=i, fobj=obj)\n"
     ]
    }
   ],
   "source": [
    "df = pd.read_csv(\"cleaned_lahar_dataset.csv\")\n",
    "X = df.drop(columns=[\"Lahar_Triggered\", \"Date\"])\n",
    "y = df[\"Lahar_Triggered\"]\n",
    "\n",
    "X_train, X_test, y_train, y_test = train_test_split(X, y, test_size=0.2, stratify=y, random_state=42)\n",
    "\n",
    "XGB_model = XGBClassifier(use_label_encoder=False, eval_metric='logloss', random_state=42)\n",
    "XGB_model.fit(X_train, y_train)\n",
    "\n",
    "print(\"🌋 Lahar Accuracy:\", accuracy_score(y_test, XGB_model.predict(X_test)))\n",
    "print(confusion_matrix(y_test, XGB_model.predict(X_test)))\n",
    "print(classification_report(y_test, XGB_model.predict(X_test)))\n"
   ]
  }
 ],
 "metadata": {
  "kernelspec": {
   "display_name": "Python 3",
   "language": "python",
   "name": "python3"
  },
  "language_info": {
   "codemirror_mode": {
    "name": "ipython",
    "version": 3
   },
   "file_extension": ".py",
   "mimetype": "text/x-python",
   "name": "python",
   "nbconvert_exporter": "python",
   "pygments_lexer": "ipython3",
   "version": "3.13.2"
  }
 },
 "nbformat": 4,
 "nbformat_minor": 5
}
