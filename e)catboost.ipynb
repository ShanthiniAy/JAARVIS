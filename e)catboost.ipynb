{
 "cells": [
  {
   "cell_type": "code",
   "execution_count": 1,
   "id": "043ec146",
   "metadata": {},
   "outputs": [],
   "source": [
    "from catboost import CatBoostClassifier\n",
    "from sklearn.model_selection import train_test_split\n",
    "from sklearn.metrics import accuracy_score, confusion_matrix, classification_report\n",
    "import pandas as pd\n"
   ]
  },
  {
   "cell_type": "markdown",
   "id": "6da0e244",
   "metadata": {},
   "source": [
    "## Landslide"
   ]
  },
  {
   "cell_type": "code",
   "execution_count": 2,
   "id": "f299f34b",
   "metadata": {},
   "outputs": [
    {
     "name": "stdout",
     "output_type": "stream",
     "text": [
      "🌧️ Landslide (CatBoost) Accuracy: 0.4857142857142857\n",
      "📊 Confusion Matrix:\n",
      " [[20 15]\n",
      " [21 14]]\n",
      "📋 Classification Report:\n",
      "               precision    recall  f1-score   support\n",
      "\n",
      "         0.0       0.49      0.57      0.53        35\n",
      "         1.0       0.48      0.40      0.44        35\n",
      "\n",
      "    accuracy                           0.49        70\n",
      "   macro avg       0.49      0.49      0.48        70\n",
      "weighted avg       0.49      0.49      0.48        70\n",
      "\n"
     ]
    }
   ],
   "source": [
    "# Load dataset\n",
    "df = pd.read_csv(\"cleaned_landslide_dataset.csv\")\n",
    "\n",
    "# Define features and target\n",
    "X = df.drop(columns=[\"Landslide_Occurred\", \"Date\"])\n",
    "y = df[\"Landslide_Occurred\"]\n",
    "\n",
    "# Split\n",
    "X_train, X_test, y_train, y_test = train_test_split(\n",
    "    X, y, test_size=0.2, random_state=42, stratify=y\n",
    ")\n",
    "\n",
    "# Train CatBoost model\n",
    "model = CatBoostClassifier(verbose=0, random_state=42)\n",
    "model.fit(X_train, y_train)\n",
    "\n",
    "# Predict & evaluate\n",
    "y_pred = model.predict(X_test)\n",
    "\n",
    "print(\"🌧️ Landslide (CatBoost) Accuracy:\", accuracy_score(y_test, y_pred))\n",
    "print(\"📊 Confusion Matrix:\\n\", confusion_matrix(y_test, y_pred))\n",
    "print(\"📋 Classification Report:\\n\", classification_report(y_test, y_pred))"
   ]
  },
  {
   "cell_type": "markdown",
   "id": "2fe7d551",
   "metadata": {},
   "source": [
    "## GLOF"
   ]
  },
  {
   "cell_type": "code",
   "execution_count": 3,
   "id": "8b6e7a7c",
   "metadata": {},
   "outputs": [
    {
     "name": "stdout",
     "output_type": "stream",
     "text": [
      "🌊 GLOF (CatBoost) Accuracy: 0.5428571428571428\n",
      "📊 Confusion Matrix:\n",
      " [[18 16]\n",
      " [16 20]]\n",
      "📋 Classification Report:\n",
      "               precision    recall  f1-score   support\n",
      "\n",
      "         0.0       0.53      0.53      0.53        34\n",
      "         1.0       0.56      0.56      0.56        36\n",
      "\n",
      "    accuracy                           0.54        70\n",
      "   macro avg       0.54      0.54      0.54        70\n",
      "weighted avg       0.54      0.54      0.54        70\n",
      "\n"
     ]
    }
   ],
   "source": [
    "# Load dataset\n",
    "df = pd.read_csv(\"cleaned_glof_dataset.csv\")\n",
    "\n",
    "# Define features and target\n",
    "X = df.drop(columns=[\"GLOF_Occurred\", \"Date\"])\n",
    "y = df[\"GLOF_Occurred\"]\n",
    "\n",
    "# Split\n",
    "X_train, X_test, y_train, y_test = train_test_split(\n",
    "    X, y, test_size=0.2, random_state=42, stratify=y\n",
    ")\n",
    "\n",
    "# Train CatBoost model\n",
    "model = CatBoostClassifier(verbose=0, random_state=42)\n",
    "model.fit(X_train, y_train)\n",
    "\n",
    "# Predict & evaluate\n",
    "y_pred = model.predict(X_test)\n",
    "\n",
    "print(\"🌊 GLOF (CatBoost) Accuracy:\", accuracy_score(y_test, y_pred))\n",
    "print(\"📊 Confusion Matrix:\\n\", confusion_matrix(y_test, y_pred))\n",
    "print(\"📋 Classification Report:\\n\", classification_report(y_test, y_pred))"
   ]
  },
  {
   "cell_type": "markdown",
   "id": "80421bf5",
   "metadata": {},
   "source": [
    "## EarthQuake"
   ]
  },
  {
   "cell_type": "code",
   "execution_count": 4,
   "id": "650e3d07",
   "metadata": {},
   "outputs": [
    {
     "name": "stdout",
     "output_type": "stream",
     "text": [
      "🌍 Earthquake (CatBoost) Accuracy: 0.5428571428571428\n",
      "📊 Confusion Matrix:\n",
      " [[14 19]\n",
      " [13 24]]\n",
      "📋 Classification Report:\n",
      "               precision    recall  f1-score   support\n",
      "\n",
      "         0.0       0.52      0.42      0.47        33\n",
      "         1.0       0.56      0.65      0.60        37\n",
      "\n",
      "    accuracy                           0.54        70\n",
      "   macro avg       0.54      0.54      0.53        70\n",
      "weighted avg       0.54      0.54      0.54        70\n",
      "\n"
     ]
    }
   ],
   "source": [
    "# Load dataset\n",
    "df = pd.read_csv(\"cleaned_earthquake_dataset.csv\")\n",
    "\n",
    "# Define features and target\n",
    "X = df.drop(columns=[\"Quake_Occurred\", \"Date\"])\n",
    "y = df[\"Quake_Occurred\"]\n",
    "\n",
    "# Split\n",
    "X_train, X_test, y_train, y_test = train_test_split(\n",
    "    X, y, test_size=0.2, random_state=42, stratify=y\n",
    ")\n",
    "\n",
    "# Train CatBoost model\n",
    "model = CatBoostClassifier(verbose=0, random_state=42)\n",
    "model.fit(X_train, y_train)\n",
    "\n",
    "# Predict & evaluate\n",
    "y_pred = model.predict(X_test)\n",
    "\n",
    "print(\"🌍 Earthquake (CatBoost) Accuracy:\", accuracy_score(y_test, y_pred))\n",
    "print(\"📊 Confusion Matrix:\\n\", confusion_matrix(y_test, y_pred))\n",
    "print(\"📋 Classification Report:\\n\", classification_report(y_test, y_pred))"
   ]
  },
  {
   "cell_type": "markdown",
   "id": "2e34308a",
   "metadata": {},
   "source": [
    "## Liquefaction"
   ]
  },
  {
   "cell_type": "code",
   "execution_count": 5,
   "id": "92f08ccf",
   "metadata": {},
   "outputs": [
    {
     "name": "stdout",
     "output_type": "stream",
     "text": [
      "💧 Liquefaction (CatBoost) Accuracy: 0.5857142857142857\n",
      "📊 Confusion Matrix:\n",
      " [[33  8]\n",
      " [21  8]]\n",
      "📋 Classification Report:\n",
      "               precision    recall  f1-score   support\n",
      "\n",
      "           0       0.61      0.80      0.69        41\n",
      "           1       0.50      0.28      0.36        29\n",
      "\n",
      "    accuracy                           0.59        70\n",
      "   macro avg       0.56      0.54      0.53        70\n",
      "weighted avg       0.57      0.59      0.55        70\n",
      "\n"
     ]
    }
   ],
   "source": [
    "# Load dataset\n",
    "df = pd.read_csv(\"cleaned_liquefaction_dataset.csv\")\n",
    "\n",
    "# Fix target to be integer class labels\n",
    "df[\"Liquefaction_Risk\"] = df[\"Liquefaction_Risk\"].round().astype(int)\n",
    "\n",
    "# Features & target\n",
    "X = df.drop(columns=[\"Liquefaction_Risk\", \"Date\"])\n",
    "y = df[\"Liquefaction_Risk\"]\n",
    "\n",
    "# Train-test split\n",
    "X_train, X_test, y_train, y_test = train_test_split(\n",
    "    X, y, test_size=0.2, random_state=42, stratify=y\n",
    ")\n",
    "\n",
    "# Train CatBoost (multiclass mode)\n",
    "model = CatBoostClassifier(\n",
    "    verbose=0,\n",
    "    random_state=42,\n",
    "    loss_function='MultiClass'\n",
    ")\n",
    "model.fit(X_train, y_train)\n",
    "\n",
    "# Predict & evaluate\n",
    "y_pred = model.predict(X_test)\n",
    "\n",
    "print(\"💧 Liquefaction (CatBoost) Accuracy:\", accuracy_score(y_test, y_pred))\n",
    "print(\"📊 Confusion Matrix:\\n\", confusion_matrix(y_test, y_pred))\n",
    "print(\"📋 Classification Report:\\n\", classification_report(y_test, y_pred))"
   ]
  },
  {
   "cell_type": "markdown",
   "id": "d3f90550",
   "metadata": {},
   "source": [
    "## SinkHole"
   ]
  },
  {
   "cell_type": "code",
   "execution_count": 6,
   "id": "de9a6a40",
   "metadata": {},
   "outputs": [
    {
     "name": "stdout",
     "output_type": "stream",
     "text": [
      "🕳️ Sinkhole (CatBoost) Accuracy: 0.5285714285714286\n",
      "📊 Confusion Matrix:\n",
      " [[18 18]\n",
      " [15 19]]\n",
      "📋 Classification Report:\n",
      "               precision    recall  f1-score   support\n",
      "\n",
      "         0.0       0.55      0.50      0.52        36\n",
      "         1.0       0.51      0.56      0.54        34\n",
      "\n",
      "    accuracy                           0.53        70\n",
      "   macro avg       0.53      0.53      0.53        70\n",
      "weighted avg       0.53      0.53      0.53        70\n",
      "\n"
     ]
    }
   ],
   "source": [
    "# Load dataset\n",
    "df = pd.read_csv(\"cleaned_sinkhole_dataset.csv\")\n",
    "\n",
    "# Features & target\n",
    "X = df.drop(columns=[\"Sinkhole_Reported\", \"Date\"])\n",
    "y = df[\"Sinkhole_Reported\"]\n",
    "\n",
    "# Train-test split\n",
    "X_train, X_test, y_train, y_test = train_test_split(\n",
    "    X, y, test_size=0.2, random_state=42, stratify=y\n",
    ")\n",
    "\n",
    "# Train CatBoost model\n",
    "model = CatBoostClassifier(verbose=0, random_state=42)\n",
    "model.fit(X_train, y_train)\n",
    "\n",
    "# Predict & evaluate\n",
    "y_pred = model.predict(X_test)\n",
    "\n",
    "print(\"🕳️ Sinkhole (CatBoost) Accuracy:\", accuracy_score(y_test, y_pred))\n",
    "print(\"📊 Confusion Matrix:\\n\", confusion_matrix(y_test, y_pred))\n",
    "print(\"📋 Classification Report:\\n\", classification_report(y_test, y_pred))"
   ]
  },
  {
   "cell_type": "markdown",
   "id": "36831854",
   "metadata": {},
   "source": [
    "## Tsunami"
   ]
  },
  {
   "cell_type": "code",
   "execution_count": 7,
   "id": "71038584",
   "metadata": {},
   "outputs": [
    {
     "name": "stdout",
     "output_type": "stream",
     "text": [
      "🌊 Tsunami (CatBoost) Accuracy: 0.5285714285714286\n",
      "📊 Confusion Matrix:\n",
      " [[19 17]\n",
      " [16 18]]\n",
      "📋 Classification Report:\n",
      "               precision    recall  f1-score   support\n",
      "\n",
      "         0.0       0.54      0.53      0.54        36\n",
      "         1.0       0.51      0.53      0.52        34\n",
      "\n",
      "    accuracy                           0.53        70\n",
      "   macro avg       0.53      0.53      0.53        70\n",
      "weighted avg       0.53      0.53      0.53        70\n",
      "\n"
     ]
    }
   ],
   "source": [
    "# Load dataset\n",
    "df = pd.read_csv(\"cleaned_tsunami_dataset.csv\")\n",
    "\n",
    "# Features & target\n",
    "X = df.drop(columns=[\"Alert_Issued\", \"Date\"])\n",
    "y = df[\"Alert_Issued\"]\n",
    "\n",
    "# Train-test split\n",
    "X_train, X_test, y_train, y_test = train_test_split(\n",
    "    X, y, test_size=0.2, random_state=42, stratify=y\n",
    ")\n",
    "\n",
    "# Train CatBoost model\n",
    "model = CatBoostClassifier(verbose=0, random_state=42)\n",
    "model.fit(X_train, y_train)\n",
    "\n",
    "# Predict & evaluate\n",
    "y_pred = model.predict(X_test)\n",
    "\n",
    "print(\"🌊 Tsunami (CatBoost) Accuracy:\", accuracy_score(y_test, y_pred))\n",
    "print(\"📊 Confusion Matrix:\\n\", confusion_matrix(y_test, y_pred))\n",
    "print(\"📋 Classification Report:\\n\", classification_report(y_test, y_pred))"
   ]
  },
  {
   "cell_type": "markdown",
   "id": "ee6b4ba8",
   "metadata": {},
   "source": [
    "## Lahar"
   ]
  },
  {
   "cell_type": "code",
   "execution_count": 8,
   "id": "2330ca83",
   "metadata": {},
   "outputs": [
    {
     "name": "stdout",
     "output_type": "stream",
     "text": [
      "🌋 Lahar (CatBoost) Accuracy: 0.44285714285714284\n",
      "📊 Confusion Matrix:\n",
      " [[ 7 24]\n",
      " [15 24]]\n",
      "📋 Classification Report:\n",
      "               precision    recall  f1-score   support\n",
      "\n",
      "         0.0       0.32      0.23      0.26        31\n",
      "         1.0       0.50      0.62      0.55        39\n",
      "\n",
      "    accuracy                           0.44        70\n",
      "   macro avg       0.41      0.42      0.41        70\n",
      "weighted avg       0.42      0.44      0.42        70\n",
      "\n"
     ]
    }
   ],
   "source": [
    "# Load dataset\n",
    "df = pd.read_csv(\"cleaned_lahar_dataset.csv\")\n",
    "\n",
    "# Features & target\n",
    "X = df.drop(columns=[\"Lahar_Triggered\", \"Date\"])\n",
    "y = df[\"Lahar_Triggered\"]\n",
    "\n",
    "# Train-test split\n",
    "X_train, X_test, y_train, y_test = train_test_split(\n",
    "    X, y, test_size=0.2, random_state=42, stratify=y\n",
    ")\n",
    "\n",
    "# Train CatBoost model\n",
    "model = CatBoostClassifier(verbose=0, random_state=42)\n",
    "model.fit(X_train, y_train)\n",
    "\n",
    "# Predict & evaluate\n",
    "y_pred = model.predict(X_test)\n",
    "\n",
    "print(\"🌋 Lahar (CatBoost) Accuracy:\", accuracy_score(y_test, y_pred))\n",
    "print(\"📊 Confusion Matrix:\\n\", confusion_matrix(y_test, y_pred))\n",
    "print(\"📋 Classification Report:\\n\", classification_report(y_test, y_pred))"
   ]
  }
 ],
 "metadata": {
  "kernelspec": {
   "display_name": "Python 3",
   "language": "python",
   "name": "python3"
  },
  "language_info": {
   "codemirror_mode": {
    "name": "ipython",
    "version": 3
   },
   "file_extension": ".py",
   "mimetype": "text/x-python",
   "name": "python",
   "nbconvert_exporter": "python",
   "pygments_lexer": "ipython3",
   "version": "3.13.2"
  }
 },
 "nbformat": 4,
 "nbformat_minor": 5
}
