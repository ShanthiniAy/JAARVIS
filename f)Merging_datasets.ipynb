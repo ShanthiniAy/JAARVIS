{
 "cells": [
  {
   "cell_type": "code",
   "execution_count": null,
   "id": "fa28ee60",
   "metadata": {},
   "outputs": [],
   "source": [
    "import pandas as pd\n",
    "# Load all re-uploaded cleaned datasets\n",
    "landslide_df = pd.read_csv(\"cleaned_landslide_dataset.csv\")\n",
    "glof_df = pd.read_csv(\"cleaned_glof_dataset.csv\")\n",
    "earthquake_df = pd.read_csv(\"cleaned_earthquake_dataset.csv\")\n",
    "liquefaction_df = pd.read_csv(\"cleaned_liquefaction_dataset.csv\")\n",
    "sinkhole_df = pd.read_csv(\"cleaned_sinkhole_dataset.csv\")\n",
    "tsunami_df = pd.read_csv(\"cleaned_tsunami_dataset.csv\")\n",
    "lahar_df = pd.read_csv(\"cleaned_lahar_dataset.csv\")\n",
    "\n",
    "# Merge all datasets on Date, Latitude, Longitude\n",
    "merged_df = landslide_df.merge(glof_df, on=[\"Date\", \"Latitude\", \"Longitude\"], how=\"outer\", suffixes=('', '_glof'))\n",
    "merged_df = merged_df.merge(earthquake_df, on=[\"Date\", \"Latitude\", \"Longitude\"], how=\"outer\", suffixes=('', '_quake'))\n",
    "merged_df = merged_df.merge(liquefaction_df, on=[\"Date\", \"Latitude\", \"Longitude\"], how=\"outer\", suffixes=('', '_liq'))\n",
    "merged_df = merged_df.merge(sinkhole_df, on=[\"Date\", \"Latitude\", \"Longitude\"], how=\"outer\", suffixes=('', '_sink'))\n",
    "merged_df = merged_df.merge(tsunami_df, on=[\"Date\", \"Latitude\", \"Longitude\"], how=\"outer\", suffixes=('', '_tsu'))\n",
    "merged_df = merged_df.merge(lahar_df, on=[\"Date\", \"Latitude\", \"Longitude\"], how=\"outer\", suffixes=('', '_lahar'))\n",
    "\n",
    "# Fill missing values with 0\n",
    "merged_df.fillna(0, inplace=True)\n",
    "\n",
    "# Save combined dataset\n",
    "combined_path = \"D:/Final_year_Project/JAARVIS/combined_multi_hazard_dataset.csv\"\n",
    "merged_df.to_csv(combined_path, index=False)\n",
    "\n",
    "combined_path"
   ]
  }
 ],
 "metadata": {
  "kernelspec": {
   "display_name": "Python 3",
   "language": "python",
   "name": "python3"
  },
  "language_info": {
   "name": "python",
   "version": "3.13.2"
  }
 },
 "nbformat": 4,
 "nbformat_minor": 5
}
